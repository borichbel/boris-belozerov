{
 "cells": [
  {
   "cell_type": "markdown",
   "metadata": {
    "_uuid": "21c25e4f8bb31570029fd6b069131a5d00f84cf1"
   },
   "source": [
    "# Домашнее задание 2 (5 баллов).\n",
    "\n",
    "*Все задания ниже имеют равный вес (5/10)*"
   ]
  },
  {
   "cell_type": "markdown",
   "metadata": {},
   "source": [
    "Код для импорта мы написали за вас (не благодарите, нам не трудно). Дальше код будете писать вы. \n",
    "\n",
    "[Тут](https://habr.com/ru/companies/ruvds/articles/494720/) шпора по pandas. За основу домашнего задания взят ноутбук [отсюда](https://rutube.ru/video/f884aa6ed5f94120b7304506042fe5bb/) (не подглядывайте!)."
   ]
  },
  {
   "cell_type": "code",
   "execution_count": 97,
   "metadata": {
    "_uuid": "568eb2d31004b87d22e119112ae01a1e75105f1d"
   },
   "outputs": [],
   "source": [
    "import pandas as pd\n",
    "import numpy as np"
   ]
  },
  {
   "cell_type": "code",
   "execution_count": 216,
   "metadata": {},
   "outputs": [],
   "source": [
    "import time"
   ]
  },
  {
   "cell_type": "markdown",
   "metadata": {},
   "source": [
    "#### Описание данных\n",
    "\n",
    "Автор д/з - плохой человек, который не стал переводить описание с мотивировкой, что весь DS на английском. Так что описание полей будет на английском:\n",
    "\n",
    "1. Account ID\n",
    "- Description: A unique identifier for each social media account in the dataset.\n",
    "- Type: Integer\n",
    "- Example: 1, 2, 3, …\n",
    "2. Username\n",
    "- Description: The username or handle of the social media account.\n",
    "- Type: String\n",
    "- Example: john_doe, tech_guru_22, fitness_freak\n",
    "3. Platform\n",
    "- Description: The social media platform the account is using (Instagram, Twitter, Facebook, TikTok, LinkedIn).\n",
    "- Type: Categorical (String)\n",
    "- Example: Instagram, Twitter, Facebook, TikTok, LinkedIn\n",
    "4. Follower Count\n",
    "- Description: The total number of followers the account has.\n",
    "- Type: Integer\n",
    "- Example: 1500, 245000, 78000\n",
    "5. Posts Per Week\n",
    "- Description: The average number of posts the account creates per week.\n",
    "- Type: Integer\n",
    "- Example: 3, 5, 7\n",
    "6. Engagement Rate\n",
    "- Description: The percentage of interactions (likes, comments, shares) relative to the follower count. This is a measure of how engaging the content is.\n",
    "- Type: Float\n",
    "- Range: 0.01 to 0.15\n",
    "- Example: 0.045 (4.5% engagement rate)\n",
    "7. Ad Spend (USD)\n",
    "- Description: The monthly amount spent on advertising or promoting posts.\n",
    "- Type: Float\n",
    "- Example: 150.75, 850.00, 300.50\n",
    "8. Conversion Rate\n",
    "- Description: The percentage of users who take a desired action (e.g., clicking a link, signing up, etc.) after interacting with an ad.\n",
    "- Type: Float\n",
    "- Range: 0.01 to 0.05 (1% to 5% conversion rate)\n",
    "- Example: 0.025 (2.5% conversion rate)\n",
    "9. Campaign Reach\n",
    "- Description: The total number of unique users reached by the user’s campaigns in a given month.\n",
    "- Type: Integer\n",
    "- Example: 5000, 20000, 15000"
   ]
  },
  {
   "cell_type": "markdown",
   "metadata": {},
   "source": [
    "#### Задание 0\n",
    "\n",
    "Подгрузите данные. Да-да, за чтение таблицы баллов не будет))\n",
    "\n",
    "**Hint**: [pd.read_csv](https://pandas.pydata.org/pandas-docs/stable/reference/api/pandas.read_csv.html)"
   ]
  },
  {
   "cell_type": "code",
   "execution_count": 4,
   "metadata": {},
   "outputs": [],
   "source": [
    "df = ... # ^⨀ᴥ⨀^"
   ]
  },
  {
   "cell_type": "code",
   "execution_count": 237,
   "metadata": {},
   "outputs": [
    {
     "data": {
      "text/html": [
       "<div>\n",
       "<style scoped>\n",
       "    .dataframe tbody tr th:only-of-type {\n",
       "        vertical-align: middle;\n",
       "    }\n",
       "\n",
       "    .dataframe tbody tr th {\n",
       "        vertical-align: top;\n",
       "    }\n",
       "\n",
       "    .dataframe thead th {\n",
       "        text-align: right;\n",
       "    }\n",
       "</style>\n",
       "<table border=\"1\" class=\"dataframe\">\n",
       "  <thead>\n",
       "    <tr style=\"text-align: right;\">\n",
       "      <th></th>\n",
       "      <th>Account ID</th>\n",
       "      <th>Username</th>\n",
       "      <th>Platform</th>\n",
       "      <th>Follower Count</th>\n",
       "      <th>Posts Per Week</th>\n",
       "      <th>Engagement Rate</th>\n",
       "      <th>Ad Spend (USD)</th>\n",
       "      <th>Conversion Rate</th>\n",
       "      <th>Campaign Reach</th>\n",
       "    </tr>\n",
       "  </thead>\n",
       "  <tbody>\n",
       "    <tr>\n",
       "      <th>0</th>\n",
       "      <td>1</td>\n",
       "      <td>harrislisa</td>\n",
       "      <td>TikTok</td>\n",
       "      <td>54217</td>\n",
       "      <td>3</td>\n",
       "      <td>0.0986</td>\n",
       "      <td>538.10</td>\n",
       "      <td>0.0490</td>\n",
       "      <td>1308</td>\n",
       "    </tr>\n",
       "    <tr>\n",
       "      <th>1</th>\n",
       "      <td>2</td>\n",
       "      <td>rhicks</td>\n",
       "      <td>LinkedIn</td>\n",
       "      <td>987518</td>\n",
       "      <td>5</td>\n",
       "      <td>0.0834</td>\n",
       "      <td>479.24</td>\n",
       "      <td>0.0174</td>\n",
       "      <td>13302</td>\n",
       "    </tr>\n",
       "    <tr>\n",
       "      <th>2</th>\n",
       "      <td>3</td>\n",
       "      <td>qthomas</td>\n",
       "      <td>Facebook</td>\n",
       "      <td>218870</td>\n",
       "      <td>3</td>\n",
       "      <td>0.1020</td>\n",
       "      <td>150.36</td>\n",
       "      <td>0.0318</td>\n",
       "      <td>11043</td>\n",
       "    </tr>\n",
       "    <tr>\n",
       "      <th>3</th>\n",
       "      <td>4</td>\n",
       "      <td>carlosholt</td>\n",
       "      <td>Instagram</td>\n",
       "      <td>207432</td>\n",
       "      <td>6</td>\n",
       "      <td>0.0834</td>\n",
       "      <td>932.62</td>\n",
       "      <td>0.0400</td>\n",
       "      <td>12074</td>\n",
       "    </tr>\n",
       "    <tr>\n",
       "      <th>4</th>\n",
       "      <td>5</td>\n",
       "      <td>parsonsashley</td>\n",
       "      <td>Facebook</td>\n",
       "      <td>350204</td>\n",
       "      <td>2</td>\n",
       "      <td>0.0642</td>\n",
       "      <td>504.44</td>\n",
       "      <td>0.0463</td>\n",
       "      <td>14083</td>\n",
       "    </tr>\n",
       "  </tbody>\n",
       "</table>\n",
       "</div>"
      ],
      "text/plain": [
       "   Account ID       Username   Platform  Follower Count  Posts Per Week  \\\n",
       "0           1     harrislisa     TikTok           54217               3   \n",
       "1           2         rhicks   LinkedIn          987518               5   \n",
       "2           3        qthomas   Facebook          218870               3   \n",
       "3           4     carlosholt  Instagram          207432               6   \n",
       "4           5  parsonsashley   Facebook          350204               2   \n",
       "\n",
       "   Engagement Rate  Ad Spend (USD)  Conversion Rate  Campaign Reach  \n",
       "0           0.0986          538.10           0.0490            1308  \n",
       "1           0.0834          479.24           0.0174           13302  \n",
       "2           0.1020          150.36           0.0318           11043  \n",
       "3           0.0834          932.62           0.0400           12074  \n",
       "4           0.0642          504.44           0.0463           14083  "
      ]
     },
     "execution_count": 237,
     "metadata": {},
     "output_type": "execute_result"
    }
   ],
   "source": [
    "df = pd.read_csv(\"data.csv\")\n",
    "df.head()"
   ]
  },
  {
   "cell_type": "markdown",
   "metadata": {},
   "source": [
    "#### Задание 1\n",
    "\n",
    "Колонка `Platform` содержит название различных платформ. Давайте представим, что в них есть некоторое отношение порядка. Закодируйте каждую платформу целым числом (от 0 до N) и положите этот \"код\" в новую колонку `Platform_Code`. Теперь вычислите корреляцию Спирмена между всеми парами колонок в датасете (результатом будет таблица корреляций). В качестве ответа выведите значение корреляции `Platform_Code` с `Engagement Rate`. Можете после вывода числа еще коротко написать, что оно означает (нет, это не оценивается).\n",
    "\n",
    "**Hint**: [pd.factorize](https://pandas.pydata.org/pandas-docs/stable/reference/api/pandas.factorize.html), [pd.DataFrame.select_dtypes](https://pandas.pydata.org/pandas-docs/stable/reference/api/pandas.DataFrame.select_dtypes.html), [pd.DataFrame.corr](https://pandas.pydata.org/pandas-docs/stable/reference/api/pandas.DataFrame.corr.html)."
   ]
  },
  {
   "cell_type": "code",
   "execution_count": 239,
   "metadata": {},
   "outputs": [
    {
     "data": {
      "text/plain": [
       "0.03"
      ]
     },
     "execution_count": 239,
     "metadata": {},
     "output_type": "execute_result"
    }
   ],
   "source": [
    "df['Platform_Code']= pd.factorize(df['Platform'])[0]\n",
    "\n",
    "spearman_corr_df = df.corr(numeric_only=True, method=\"spearman\")\n",
    "spearman_corr_df.loc['Platform_Code','Engagement Rate'].round(2)"
   ]
  },
  {
   "cell_type": "markdown",
   "metadata": {},
   "source": [
    "корреляция Спирмена равна 0.03, что говорит о том, что статистической связи практически никакой нет"
   ]
  },
  {
   "cell_type": "markdown",
   "metadata": {},
   "source": [
    "#### Задание 2\n",
    "\n",
    "Теперь посмотрите на столбец `Follower Count`. В нем какие-то числа. Иногда бывает полезно провести дискретизацию такого признака. Разбейте все значения в столбце на 4 группы: \"Low\", \"Medium\", \"High\", \"Very High\". Каждая группа включает в себя новые 25% данных. То есть, Low включает в себя 25% самых маленьких значений признака и так далее. Положите значения \"Low\", \"Medium\", \"High\" или \"Very High\" для каждого сэмпла датасета в новую колонку `Follower_Bin`. Теперь посчитайте среднее значение `Engagement Rate` для каждой категории из `Follower_Bin`. В качестве ответа выведите значение для категории \"High\".\n",
    "\n",
    "**Hint**: [pd.qcut](https://pandas.pydata.org/pandas-docs/stable/reference/api/pandas.qcut.html), [pd.groupby](https://pandas.pydata.org/pandas-docs/stable/reference/api/pandas.DataFrame.groupby.html), [pd.DataFrame.mean](https://pandas.pydata.org/pandas-docs/stable/reference/api/pandas.DataFrame.mean.html)"
   ]
  },
  {
   "cell_type": "code",
   "execution_count": 240,
   "metadata": {},
   "outputs": [
    {
     "name": "stderr",
     "output_type": "stream",
     "text": [
      "C:\\Users\\beloz\\AppData\\Local\\Temp\\ipykernel_12364\\304695256.py:2: FutureWarning: The default of observed=False is deprecated and will be changed to True in a future version of pandas. Pass observed=False to retain current behavior or observed=True to adopt the future default and silence this warning.\n",
      "  mean_followers = df.groupby('Follower_Bin')['Engagement Rate'].mean()\n"
     ]
    },
    {
     "data": {
      "text/plain": [
       "0.08655032"
      ]
     },
     "execution_count": 240,
     "metadata": {},
     "output_type": "execute_result"
    }
   ],
   "source": [
    "df['Follower_Bin'] = pd.qcut(df['Follower Count'], 4, labels=[\"Low\", \"Medium\", \"High\", \"Very High\"]) \n",
    "mean_followers = df.groupby('Follower_Bin')['Engagement Rate'].mean()\n",
    "mean_followers['High'] # значение для категории High (◕^^◕)"
   ]
  },
  {
   "cell_type": "markdown",
   "metadata": {},
   "source": [
    "#### Задание 3\n",
    "\n",
    "Иногда бывает полезно превратить широкую таблицу в длинную (например, для визуализаций сразу нескольких признаков на одной картинке). Да, звучит странно, но именно этим вы сейчас и займетесь. Сделайте новый датафрейм `melted_df`, в который вы поместите каждый сэмпл датасета 6 раз: по одному разу на значение из 'Follower Count', 'Posts Per Week', 'Ad Spend (USD)', 'Conversion Rate', 'Engagement Rate' и 'Campaign Reach'. То есть, вы берете сэмпл из датасета (строку) и превращаете ее в 6 отдельных строк. Каждая отдельная строка в столбце `Metric` имеет имя из предложенного списка 5 признаков, а в столбце `Value` - значение данного сэмпла по этому признаку. Значение `Platform` повторяется в этих 6 строках.\n",
    "\n",
    "Иначе говоря, \n",
    "\n",
    "```json\n",
    "{\n",
    "    \"Account ID\": 1,\n",
    "    \"Username\": \"harrislisa\",\n",
    "    \"Platform\": \"TikTok\",\n",
    "    \"Follower Count\": 54217,\n",
    "    \"Posts Per Week\": 3,\n",
    "    \"Engagement Rate\": 0.0986,\n",
    "    \"Ad Spend (USD)\": 538.1,\n",
    "    \"Conversion Rate\": 0.049,\n",
    "    \"Campaign Reach\": 1308,\n",
    "    \"Platform_Code\": 0,\n",
    "    \"Follower_Bin\": \"Low\"\n",
    "}\n",
    "```\n",
    "\n",
    "превращается в \n",
    "\n",
    "```json\n",
    "{\n",
    "    \"Platform\": \"TikTok\",\n",
    "    \"Metric\": \"Follower Count\",\n",
    "    \"Value\": 54217,\n",
    "},\n",
    "{\n",
    "    \"Platform\": \"TikTok\",\n",
    "    \"Metric\": \"Posts Per Week\",\n",
    "    \"Value\": 3,\n",
    "}, ...\n",
    "```\n",
    "\n",
    "Для каждого уникальной пары значений (`Platform`, `Metric`) посчитайте моду среди всех значений `Value` для этой пары, результат сделайте списком и оставьте только наибольшее. В качестве ответа выведите сумму полученных мод (сумму всех значений в столбце `Value` уже после вычисления мод). Иначе говоря, выведите сумму всех мод значений для всех уникальных пар (`Platform`, `Metric`).\n",
    "\n",
    "**Hint**: [pd.melt](https://pandas.pydata.org/pandas-docs/stable/reference/api/pandas.melt.html), [pd.DataFrame.mode](https://pandas.pydata.org/pandas-docs/stable/reference/api/pandas.DataFrame.mode.html), [pd.DataFrameGroupBy.agg](https://pandas.pydata.org/docs/dev/reference/api/pandas.core.groupby.DataFrameGroupBy.agg.html)"
   ]
  },
  {
   "cell_type": "code",
   "execution_count": 241,
   "metadata": {},
   "outputs": [
    {
     "data": {
      "text/plain": [
       "3100285.4716"
      ]
     },
     "execution_count": 241,
     "metadata": {},
     "output_type": "execute_result"
    }
   ],
   "source": [
    "# (づ๑•ᴗ•๑)づ♡\n",
    "melted_df = pd.melt(df, id_vars=['Platform'], \n",
    "                    value_vars=['Follower Count', 'Posts Per Week', 'Ad Spend (USD)', 'Conversion Rate', 'Engagement Rate','Campaign Reach'], \n",
    "                    var_name='Metric', value_name='Value')\n",
    "\n",
    "melted_mode = melted_df.groupby(['Platform', 'Metric'])['Value'].agg(lambda x: x.mode())\n",
    "max_modes = melted_mode.apply(lambda x: x.max())\n",
    "max_modes.sum()"
   ]
  },
  {
   "cell_type": "markdown",
   "metadata": {},
   "source": [
    "#### Задание 4\n",
    "\n",
    "А теперь хочется посмотреть на самые популярные аккаунты на разных платформах. Для каждой платформы отсортируйте датафрейм по убыванию количества подписчиков (`Follower Count`) - да, без циклов, сразу для всех платформ сделать сортировку, а затем оставьте только первые три записи для каждой платформы - это и будут три самых популярных аккаунта для каждой платформы. В качестве ответа выведите саму таблицу и минимальное значение `Follower Count` в ней.\n",
    "\n",
    "**Hint**: к *groupby* можно применять функции - это эквивалентно применению функции к каждой \"группе\" внутри groupby-объекта. Читайте [про применение apply к датафрейму после groupby](https://pandas.pydata.org/pandas-docs/stable/user_guide/groupby.html#flexible-apply)."
   ]
  },
  {
   "cell_type": "code",
   "execution_count": 242,
   "metadata": {},
   "outputs": [
    {
     "name": "stderr",
     "output_type": "stream",
     "text": [
      "C:\\Users\\beloz\\AppData\\Local\\Temp\\ipykernel_12364\\3641741780.py:2: DeprecationWarning: DataFrameGroupBy.apply operated on the grouping columns. This behavior is deprecated, and in a future version of pandas the grouping columns will be excluded from the operation. Either pass `include_groups=False` to exclude the groupings or explicitly select the grouping columns after groupby to silence this warning.\n",
      "  top_accounts = df.groupby('Platform').apply(lambda x: x.sort_values(by='Follower Count', ascending=False).head(3))\n"
     ]
    },
    {
     "data": {
      "text/html": [
       "<div>\n",
       "<style scoped>\n",
       "    .dataframe tbody tr th:only-of-type {\n",
       "        vertical-align: middle;\n",
       "    }\n",
       "\n",
       "    .dataframe tbody tr th {\n",
       "        vertical-align: top;\n",
       "    }\n",
       "\n",
       "    .dataframe thead th {\n",
       "        text-align: right;\n",
       "    }\n",
       "</style>\n",
       "<table border=\"1\" class=\"dataframe\">\n",
       "  <thead>\n",
       "    <tr style=\"text-align: right;\">\n",
       "      <th></th>\n",
       "      <th></th>\n",
       "      <th>Account ID</th>\n",
       "      <th>Username</th>\n",
       "      <th>Platform</th>\n",
       "      <th>Follower Count</th>\n",
       "      <th>Posts Per Week</th>\n",
       "      <th>Engagement Rate</th>\n",
       "      <th>Ad Spend (USD)</th>\n",
       "      <th>Conversion Rate</th>\n",
       "      <th>Campaign Reach</th>\n",
       "      <th>Platform_Code</th>\n",
       "      <th>Follower_Bin</th>\n",
       "    </tr>\n",
       "    <tr>\n",
       "      <th>Platform</th>\n",
       "      <th></th>\n",
       "      <th></th>\n",
       "      <th></th>\n",
       "      <th></th>\n",
       "      <th></th>\n",
       "      <th></th>\n",
       "      <th></th>\n",
       "      <th></th>\n",
       "      <th></th>\n",
       "      <th></th>\n",
       "      <th></th>\n",
       "      <th></th>\n",
       "    </tr>\n",
       "  </thead>\n",
       "  <tbody>\n",
       "    <tr>\n",
       "      <th rowspan=\"3\" valign=\"top\">Facebook</th>\n",
       "      <th>2403</th>\n",
       "      <td>2404</td>\n",
       "      <td>eric65</td>\n",
       "      <td>Facebook</td>\n",
       "      <td>999982</td>\n",
       "      <td>6</td>\n",
       "      <td>0.0642</td>\n",
       "      <td>884.06</td>\n",
       "      <td>0.0281</td>\n",
       "      <td>17312</td>\n",
       "      <td>2</td>\n",
       "      <td>Very High</td>\n",
       "    </tr>\n",
       "    <tr>\n",
       "      <th>7350</th>\n",
       "      <td>7351</td>\n",
       "      <td>patricknoble</td>\n",
       "      <td>Facebook</td>\n",
       "      <td>997915</td>\n",
       "      <td>3</td>\n",
       "      <td>0.0834</td>\n",
       "      <td>429.01</td>\n",
       "      <td>0.0182</td>\n",
       "      <td>25985</td>\n",
       "      <td>2</td>\n",
       "      <td>Very High</td>\n",
       "    </tr>\n",
       "    <tr>\n",
       "      <th>1689</th>\n",
       "      <td>1690</td>\n",
       "      <td>chavezjason</td>\n",
       "      <td>Facebook</td>\n",
       "      <td>997512</td>\n",
       "      <td>7</td>\n",
       "      <td>0.0834</td>\n",
       "      <td>993.20</td>\n",
       "      <td>0.0397</td>\n",
       "      <td>45717</td>\n",
       "      <td>2</td>\n",
       "      <td>Very High</td>\n",
       "    </tr>\n",
       "    <tr>\n",
       "      <th rowspan=\"3\" valign=\"top\">Instagram</th>\n",
       "      <th>8685</th>\n",
       "      <td>8686</td>\n",
       "      <td>alexandersamuel</td>\n",
       "      <td>Instagram</td>\n",
       "      <td>999726</td>\n",
       "      <td>3</td>\n",
       "      <td>0.0834</td>\n",
       "      <td>687.61</td>\n",
       "      <td>0.0205</td>\n",
       "      <td>11050</td>\n",
       "      <td>3</td>\n",
       "      <td>Very High</td>\n",
       "    </tr>\n",
       "    <tr>\n",
       "      <th>3965</th>\n",
       "      <td>3966</td>\n",
       "      <td>lrodgers</td>\n",
       "      <td>Instagram</td>\n",
       "      <td>999351</td>\n",
       "      <td>1</td>\n",
       "      <td>0.0834</td>\n",
       "      <td>565.07</td>\n",
       "      <td>0.0335</td>\n",
       "      <td>12391</td>\n",
       "      <td>3</td>\n",
       "      <td>Very High</td>\n",
       "    </tr>\n",
       "    <tr>\n",
       "      <th>2189</th>\n",
       "      <td>2190</td>\n",
       "      <td>jbrown</td>\n",
       "      <td>Instagram</td>\n",
       "      <td>997844</td>\n",
       "      <td>5</td>\n",
       "      <td>0.0642</td>\n",
       "      <td>505.61</td>\n",
       "      <td>0.0202</td>\n",
       "      <td>14717</td>\n",
       "      <td>3</td>\n",
       "      <td>Very High</td>\n",
       "    </tr>\n",
       "    <tr>\n",
       "      <th rowspan=\"3\" valign=\"top\">LinkedIn</th>\n",
       "      <th>3039</th>\n",
       "      <td>3040</td>\n",
       "      <td>toneill</td>\n",
       "      <td>LinkedIn</td>\n",
       "      <td>999055</td>\n",
       "      <td>4</td>\n",
       "      <td>0.0642</td>\n",
       "      <td>799.49</td>\n",
       "      <td>0.0174</td>\n",
       "      <td>21862</td>\n",
       "      <td>1</td>\n",
       "      <td>Very High</td>\n",
       "    </tr>\n",
       "    <tr>\n",
       "      <th>6359</th>\n",
       "      <td>6360</td>\n",
       "      <td>andrewgregory</td>\n",
       "      <td>LinkedIn</td>\n",
       "      <td>998968</td>\n",
       "      <td>7</td>\n",
       "      <td>0.1020</td>\n",
       "      <td>797.64</td>\n",
       "      <td>0.0351</td>\n",
       "      <td>15552</td>\n",
       "      <td>1</td>\n",
       "      <td>Very High</td>\n",
       "    </tr>\n",
       "    <tr>\n",
       "      <th>2159</th>\n",
       "      <td>2160</td>\n",
       "      <td>ashleycooper</td>\n",
       "      <td>LinkedIn</td>\n",
       "      <td>998925</td>\n",
       "      <td>6</td>\n",
       "      <td>0.0856</td>\n",
       "      <td>474.46</td>\n",
       "      <td>0.0156</td>\n",
       "      <td>45956</td>\n",
       "      <td>1</td>\n",
       "      <td>Very High</td>\n",
       "    </tr>\n",
       "    <tr>\n",
       "      <th rowspan=\"3\" valign=\"top\">TikTok</th>\n",
       "      <th>5838</th>\n",
       "      <td>5839</td>\n",
       "      <td>edwardthomas</td>\n",
       "      <td>TikTok</td>\n",
       "      <td>999739</td>\n",
       "      <td>7</td>\n",
       "      <td>0.0642</td>\n",
       "      <td>630.77</td>\n",
       "      <td>0.0325</td>\n",
       "      <td>35523</td>\n",
       "      <td>0</td>\n",
       "      <td>Very High</td>\n",
       "    </tr>\n",
       "    <tr>\n",
       "      <th>4234</th>\n",
       "      <td>4235</td>\n",
       "      <td>andradewesley</td>\n",
       "      <td>TikTok</td>\n",
       "      <td>999234</td>\n",
       "      <td>5</td>\n",
       "      <td>0.0834</td>\n",
       "      <td>872.77</td>\n",
       "      <td>0.0481</td>\n",
       "      <td>17188</td>\n",
       "      <td>0</td>\n",
       "      <td>Very High</td>\n",
       "    </tr>\n",
       "    <tr>\n",
       "      <th>2575</th>\n",
       "      <td>2576</td>\n",
       "      <td>williamwyatt</td>\n",
       "      <td>TikTok</td>\n",
       "      <td>998623</td>\n",
       "      <td>6</td>\n",
       "      <td>0.0856</td>\n",
       "      <td>477.98</td>\n",
       "      <td>0.0250</td>\n",
       "      <td>43299</td>\n",
       "      <td>0</td>\n",
       "      <td>Very High</td>\n",
       "    </tr>\n",
       "    <tr>\n",
       "      <th rowspan=\"3\" valign=\"top\">Twitter</th>\n",
       "      <th>4920</th>\n",
       "      <td>4921</td>\n",
       "      <td>teresaellis</td>\n",
       "      <td>Twitter</td>\n",
       "      <td>999919</td>\n",
       "      <td>6</td>\n",
       "      <td>0.0834</td>\n",
       "      <td>411.63</td>\n",
       "      <td>0.0460</td>\n",
       "      <td>3975</td>\n",
       "      <td>4</td>\n",
       "      <td>Very High</td>\n",
       "    </tr>\n",
       "    <tr>\n",
       "      <th>9684</th>\n",
       "      <td>9685</td>\n",
       "      <td>sriley</td>\n",
       "      <td>Twitter</td>\n",
       "      <td>999442</td>\n",
       "      <td>3</td>\n",
       "      <td>0.0834</td>\n",
       "      <td>206.84</td>\n",
       "      <td>0.0225</td>\n",
       "      <td>12783</td>\n",
       "      <td>4</td>\n",
       "      <td>Very High</td>\n",
       "    </tr>\n",
       "    <tr>\n",
       "      <th>7576</th>\n",
       "      <td>7577</td>\n",
       "      <td>peggymunoz</td>\n",
       "      <td>Twitter</td>\n",
       "      <td>998216</td>\n",
       "      <td>6</td>\n",
       "      <td>0.0642</td>\n",
       "      <td>456.61</td>\n",
       "      <td>0.0456</td>\n",
       "      <td>22037</td>\n",
       "      <td>4</td>\n",
       "      <td>Very High</td>\n",
       "    </tr>\n",
       "  </tbody>\n",
       "</table>\n",
       "</div>"
      ],
      "text/plain": [
       "                Account ID         Username   Platform  Follower Count  \\\n",
       "Platform                                                                 \n",
       "Facebook  2403        2404           eric65   Facebook          999982   \n",
       "          7350        7351     patricknoble   Facebook          997915   \n",
       "          1689        1690      chavezjason   Facebook          997512   \n",
       "Instagram 8685        8686  alexandersamuel  Instagram          999726   \n",
       "          3965        3966         lrodgers  Instagram          999351   \n",
       "          2189        2190           jbrown  Instagram          997844   \n",
       "LinkedIn  3039        3040          toneill   LinkedIn          999055   \n",
       "          6359        6360    andrewgregory   LinkedIn          998968   \n",
       "          2159        2160     ashleycooper   LinkedIn          998925   \n",
       "TikTok    5838        5839     edwardthomas     TikTok          999739   \n",
       "          4234        4235    andradewesley     TikTok          999234   \n",
       "          2575        2576     williamwyatt     TikTok          998623   \n",
       "Twitter   4920        4921      teresaellis    Twitter          999919   \n",
       "          9684        9685           sriley    Twitter          999442   \n",
       "          7576        7577       peggymunoz    Twitter          998216   \n",
       "\n",
       "                Posts Per Week  Engagement Rate  Ad Spend (USD)  \\\n",
       "Platform                                                          \n",
       "Facebook  2403               6           0.0642          884.06   \n",
       "          7350               3           0.0834          429.01   \n",
       "          1689               7           0.0834          993.20   \n",
       "Instagram 8685               3           0.0834          687.61   \n",
       "          3965               1           0.0834          565.07   \n",
       "          2189               5           0.0642          505.61   \n",
       "LinkedIn  3039               4           0.0642          799.49   \n",
       "          6359               7           0.1020          797.64   \n",
       "          2159               6           0.0856          474.46   \n",
       "TikTok    5838               7           0.0642          630.77   \n",
       "          4234               5           0.0834          872.77   \n",
       "          2575               6           0.0856          477.98   \n",
       "Twitter   4920               6           0.0834          411.63   \n",
       "          9684               3           0.0834          206.84   \n",
       "          7576               6           0.0642          456.61   \n",
       "\n",
       "                Conversion Rate  Campaign Reach  Platform_Code Follower_Bin  \n",
       "Platform                                                                     \n",
       "Facebook  2403           0.0281           17312              2    Very High  \n",
       "          7350           0.0182           25985              2    Very High  \n",
       "          1689           0.0397           45717              2    Very High  \n",
       "Instagram 8685           0.0205           11050              3    Very High  \n",
       "          3965           0.0335           12391              3    Very High  \n",
       "          2189           0.0202           14717              3    Very High  \n",
       "LinkedIn  3039           0.0174           21862              1    Very High  \n",
       "          6359           0.0351           15552              1    Very High  \n",
       "          2159           0.0156           45956              1    Very High  \n",
       "TikTok    5838           0.0325           35523              0    Very High  \n",
       "          4234           0.0481           17188              0    Very High  \n",
       "          2575           0.0250           43299              0    Very High  \n",
       "Twitter   4920           0.0460            3975              4    Very High  \n",
       "          9684           0.0225           12783              4    Very High  \n",
       "          7576           0.0456           22037              4    Very High  "
      ]
     },
     "execution_count": 242,
     "metadata": {},
     "output_type": "execute_result"
    }
   ],
   "source": [
    "# ε(´סּ︵סּ`)з\n",
    "top_accounts = df.groupby('Platform').apply(lambda x: x.sort_values(by='Follower Count', ascending=False).head(3))\n",
    "top_accounts #таблица"
   ]
  },
  {
   "cell_type": "code",
   "execution_count": 243,
   "metadata": {},
   "outputs": [
    {
     "data": {
      "text/plain": [
       "997512"
      ]
     },
     "execution_count": 243,
     "metadata": {},
     "output_type": "execute_result"
    }
   ],
   "source": [
    "top_accounts['Follower Count'].min() #минимальное значение Follower count"
   ]
  },
  {
   "cell_type": "markdown",
   "metadata": {},
   "source": [
    "#### Задание 5\n",
    "\n",
    "Хочется посчитать какую-то метрику. Мы хотим посмотреть, на отношение разности суммы подписчиков аккаунтов с высокой и низкой конверсией к суммарному охвату рекламы на каждой платформе. То есть, мы делим аккаунты на две группы: высокая и низка конверсия. Затем мы смотрим на то, на сколько сильно влияние аккаунтов с высокой конверсией по сравнению с аккаунтами с низкой конверсией. \n",
    "\n",
    "Давайте определим *Conversion Influence* следущим образом:\n",
    "\n",
    "$$Conversion Influence = \\frac{Total Follower\\ Count (High) - Total Follower\\ Count (Low)}{Total Campaign Reach (High)+Total Campaign Reach (Low)}$$\n",
    "\n",
    "Считать эту метрику мы будет для каждой `Platform`. В этой формуле High - это значения всех сэмплов датасета, в которых `Conversion Rate` больше медианы, а `Low` - не более медианы. `Total Feature` - это суммарное количество значений `Feature` либо по `High` сэмплам, либо по `Low`.\n",
    "\n",
    "Чтобы постоянно не пересчитывать, где High. где Low, сделайте новую колонку в датасете `Conversion_Category`. Положите в нее для каждой строки либо High, либо Low.\n",
    "\n",
    "Выведите платформу с самым большим `Conversion Influence`.\n",
    "\n",
    "**Hint**: данное задание не про *groupby*, а скорее про [pd.pivot_table](https://pandas.pydata.org/pandas-docs/stable/reference/api/pandas.pivot_table.html). Сделайте сводную таблицу, по которой уже можно посчитать суммы, а затем подставить их в формулы."
   ]
  },
  {
   "cell_type": "code",
   "execution_count": 244,
   "metadata": {},
   "outputs": [
    {
     "name": "stdout",
     "output_type": "stream",
     "text": [
      "Платформа с самым большим Conversion Influence -- Twitter\n"
     ]
    }
   ],
   "source": [
    "# (︶ω︶)\n",
    "\n",
    "median = df['Conversion Rate'].median()\n",
    "df['Conversion_Category'] = df['Conversion Rate'].apply(lambda x: 'High' if x > median else 'Low')\n",
    "pivot_table = pd.pivot_table(df, values=['Follower Count', 'Campaign Reach'], index='Platform', columns='Conversion_Category', aggfunc='sum')\n",
    "followers_difference = pivot_table['Follower Count']['High'] - pivot_table['Follower Count']['Low']\n",
    "campaign_reach_sum = pivot_table['Campaign Reach']['High'] + pivot_table['Campaign Reach']['Low']\n",
    "conversion_influence = followers_difference / campaign_reach_sum\n",
    "print(f\"Платформа с самым большим Conversion Influence -- {conversion_influence.idxmax()}\")\n"
   ]
  },
  {
   "cell_type": "markdown",
   "metadata": {},
   "source": [
    "#### Задание 6\n",
    "\n",
    "Мы знаем, что вам понравилось считать метрики по формуле. Давайте закрепим этот успех. Теперь для каждой платформы посчитаем, на сколько эффективна реклама в разрезе трех последовательных записей в датасете. \n",
    "\n",
    "Для каждой платформы отсортируйте записи в порядке убывания `Posts Per Week`. Будто бы аккаунты, которые постят чаще, используют более \"активные\" стратегии по рекламе. Теперь посчитайте *скользущие суммы с окном 3* по `Campaign Reach` и `Ad Spend (USD)`. Скользящая сумма с окном N - это вы идете по массиву, берете все последовательные тройки записей и суммируете их. Для первых двух записей троек не найдется. Для них скользящее среднее - NaN, что нам не помешает. \n",
    "\n",
    "Теперь для каждого окна посчитайте \n",
    "\n",
    "$$Rolling Efficiency Ratio = \\frac{Rolling Sum of Campaign Reach}{Rolling Sum of Ad Spend}$$\n",
    "\n",
    "По сути, для каждого окна вы посчитаете сколько пользователе привлеклось за один доллар, потреченный на рекламу, в данном окне. Понятно, что значений будет столько, сколько окон. Нам интересно максимально значение такой эффективности для каждой платформы.\n",
    "\n",
    "В качестве ответа выведите название платформы с наибольшей максимальной эффективность и наименьшей (два названия, не одно, не три, ровно два).\n",
    "\n",
    "**Hint**: окна можно делать через [pd.DataFrame.rolling](https://pandas.pydata.org/pandas-docs/stable/reference/api/pandas.DataFrame.rolling.html)."
   ]
  },
  {
   "cell_type": "code",
   "execution_count": 245,
   "metadata": {},
   "outputs": [
    {
     "name": "stdout",
     "output_type": "stream",
     "text": [
      "Платформа с наибольшей эффективностью -- Facebook.\n",
      "Платформа с наименьшей эффективностью -- Instagram.\n"
     ]
    },
    {
     "name": "stderr",
     "output_type": "stream",
     "text": [
      "C:\\Users\\beloz\\AppData\\Local\\Temp\\ipykernel_12364\\2557179778.py:5: DeprecationWarning: DataFrameGroupBy.apply operated on the grouping columns. This behavior is deprecated, and in a future version of pandas the grouping columns will be excluded from the operation. Either pass `include_groups=False` to exclude the groupings or explicitly select the grouping columns after groupby to silence this warning.\n",
      "  sorted_df = df.groupby('Platform').apply(lambda x: x.sort_values(by='Posts Per Week', ascending=False)).reset_index(drop=True)\n"
     ]
    }
   ],
   "source": [
    "# (◔/‿\\◔)\n",
    "\n",
    "\n",
    "# Sort by 'Posts Per Week' within each platform\n",
    "sorted_df = df.groupby('Platform').apply(lambda x: x.sort_values(by='Posts Per Week', ascending=False)).reset_index(drop=True)\n",
    "\n",
    "\n",
    "sorted_df['Rolling_Campaign'] = sorted_df.groupby('Platform')['Campaign Reach'].rolling(3).sum().reset_index(level=0, drop=True)\n",
    "sorted_df['Rolling_Ad'] = sorted_df.groupby('Platform')['Ad Spend (USD)'].rolling(3).sum().reset_index(level=0, drop=True)\n",
    "\n",
    "\n",
    "sorted_df['Rolling Efficiency Ratio'] = sorted_df['Rolling_Campaign'] / sorted_df['Rolling_Ad']\n",
    "\n",
    "print(f\"Платформа с наибольшей эффективностью -- {sorted_df.groupby('Platform')['Rolling Efficiency Ratio'].max().idxmax()}.\")\n",
    "print(f\"Платформа с наименьшей эффективностью -- {sorted_df.groupby('Platform')['Rolling Efficiency Ratio'].min().idxmin()}.\")\n",
    "\n",
    "\n"
   ]
  },
  {
   "cell_type": "markdown",
   "metadata": {},
   "source": [
    "#### Задание 7\n",
    "\n",
    "Это еще не все прекрасные функции pandas, которые мы хотим вам показать. Теперь вы посчитаете, сколько аккаунтов на каждой платформе одновременно лучшие по `Engagement Rate` и `Conversion Rate`.\n",
    "\n",
    "Сделайте два отдельных суб-сета. В одном оставьте для каждой платфмормы один топовый аккаунт по `Engagement Rate`, в другом - по `Conversion Rate`. Соедините эти два подмножества по столбцу `Platform` так, что в одно строке есть описание сразу двух аккаунтов-лидеров. Теперь посмотрите равны ли имена аккаунтов в одной строке. Выведите количество строк, в которых названия аккаунтов совпадают."
   ]
  },
  {
   "cell_type": "code",
   "execution_count": 246,
   "metadata": {},
   "outputs": [
    {
     "name": "stdout",
     "output_type": "stream",
     "text": [
      "Количество совпадающих строк -- 0\n"
     ]
    }
   ],
   "source": [
    "# ( ͡° ͜ʖ ͡°)\n",
    "top_engagement = df.loc[df.groupby('Platform')['Engagement Rate'].idxmax()]\n",
    "top_conversion = df.loc[df.groupby('Platform')['Conversion Rate'].idxmax()]\n",
    "\n",
    "merged_df = pd.merge(top_engagement, top_conversion, on=['Platform'], suffixes=['_Engagement', '_Conversion'])\n",
    "merged_df['Same_Username'] = merged_df['Username_Engagement'] == merged_df['Username_Conversion']\n",
    "print(f\"Количество совпадающих строк -- {merged_df['Same_Username'].sum()}\")"
   ]
  },
  {
   "cell_type": "markdown",
   "metadata": {},
   "source": [
    "#### Задание 8\n",
    "\n",
    "Давайте теперь что-то попроще сделаем. Например, посчитаем отношение суммарного количества подписчиков на аккаунтах с высокой конверсией к такой же сумме в аккаунтах с низкой конверсией (очевидно, для каждой платформы). По сути, мы просто хотим получить число, которое характеризует, на сколько сильно аккаунты с высокой конверсией \"доминируют\" над аккаунтами с низкой конверсией в плане количества подписчиков.\n",
    "\n",
    "Высокой конверсией будем считать конверсию больше средней. Остальное - низкая. Посчитайте суммы подписчиков для каждой платформы, поделите одно на другое и выведите разницу между самым большим значением и самым маленьким, а также платформы, которые соотвутствуют этим значениям.\n",
    "\n",
    "Используйте магическую команду `%%time`, чтобы замерить, сколько времени ушло на исполнение вашего pandas-скрипта."
   ]
  },
  {
   "cell_type": "code",
   "execution_count": 247,
   "metadata": {},
   "outputs": [
    {
     "name": "stdout",
     "output_type": "stream",
     "text": [
      "Разница между самым большим и наименьшим занчениями -- 0.17688741338715763\n",
      "Платформа с наибольшим значением -- Twitter\n",
      "Платформа с наименьшим значением -- Instagram\n",
      "CPU times: total: 15.6 ms\n",
      "Wall time: 21.5 ms\n"
     ]
    }
   ],
   "source": [
    "%%time\n",
    "mean = df['Conversion Rate'].mean()\n",
    "df['Conversion_Category_by_mean'] = df['Conversion Rate'].apply(lambda x: 'High' if x > mean else 'Low')\n",
    "sums = df.groupby(['Platform','Conversion_Category_by_mean'])['Follower Count'].sum().unstack()\n",
    "sums['Follower Proportion'] = sums['High'] / sums['Low']\n",
    "\n",
    "max_ratio = sums['Follower Proportion'].max() \n",
    "min_ratio = sums['Follower Proportion'].min() \n",
    "print(f\"Разница между самым большим и наименьшим занчениями -- {max_ratio - min_ratio}\")\n",
    "\n",
    "max_platform = sums['Follower Proportion'].idxmax()\n",
    "min_platform = sums['Follower Proportion'].idxmin() \n",
    "\n",
    "print(f\"Платформа с наибольшим значением -- {max_platform}\\nПлатформа с наименьшим значением -- {min_platform}\")\n"
   ]
  },
  {
   "cell_type": "markdown",
   "metadata": {},
   "source": [
    "#### Задание 9\n",
    "\n",
    "А теперь решите задание 8 чисто питоном. Никаких функций и методов pandas. Только питоновские циклы. Замерьте время выполнения кода. Наконец, сравните время в задании 8 и 9. Напишите ниже, кто же победил: чистый python и pandas?\n",
    "\n",
    "**Hint**: Чтобы итерироваться по датафрейму, можно из него сделать генератор через [pd.DataFrame.iterrows](https://pandas.pydata.org/pandas-docs/stable/reference/api/pandas.DataFrame.iterrows.html) или [pd.DataFrame.itertuples](https://pandas.pydata.org/pandas-docs/stable/reference/api/pandas.DataFrame.itertuples.html#pandas.DataFrame.itertuples). К слову, это не все способы итерироваться по датафрейму."
   ]
  },
  {
   "cell_type": "code",
   "execution_count": 248,
   "metadata": {},
   "outputs": [
    {
     "name": "stdout",
     "output_type": "stream",
     "text": [
      "Разница между наибольшим и наменьшим: 0.17688741338715763\n",
      "Платформа с наибольшим значением: Twitter\n",
      "Платформа с минимальным значением: Instagram\n",
      "CPU times: total: 0 ns\n",
      "Wall time: 141 ms\n"
     ]
    }
   ],
   "source": [
    "%%time\n",
    "df_dict = df.to_dict(orient='list')\n",
    "\n",
    "\n",
    "\n",
    "mean = sum(df_dict['Conversion Rate']) / len(df_dict['Conversion Rate']) \n",
    "\n",
    "\n",
    "platform_followers_high = {}\n",
    "platform_followers_low = {}\n",
    "\n",
    "for i in range(len(df_dict['Platform'])):\n",
    "    platform = df_dict['Platform'][i]\n",
    "    followers = df_dict['Follower Count'][i]\n",
    "    conversion_rate = df_dict['Conversion Rate'][i]\n",
    "\n",
    "    if conversion_rate > mean:\n",
    "        if platform not in platform_followers_high:\n",
    "            platform_followers_high[platform] = 0\n",
    "        platform_followers_high[platform] += followers\n",
    "    else:\n",
    "        if platform not in platform_followers_low:\n",
    "            platform_followers_low[platform] = 0\n",
    "        platform_followers_low[platform] += followers\n",
    "\n",
    "\n",
    "\n",
    "\n",
    "ratios = {}\n",
    "for platform in set(platform_followers_high.keys()).union(set(platform_followers_low.keys())):\n",
    "    high_followers = platform_followers_high.get(platform, 0)\n",
    "    low_followers = platform_followers_low.get(platform, 1) \n",
    "    ratios[platform] = high_followers / low_followers\n",
    "\n",
    "\n",
    "max_ratio_platform = max(ratios, key=ratios.get)\n",
    "min_ratio_platform = min(ratios, key=ratios.get)\n",
    "\n",
    "max_ratio = ratios[max_ratio_platform]\n",
    "min_ratio = ratios[min_ratio_platform]\n",
    "\n",
    "ratio_difference = max_ratio - min_ratio\n",
    "\n",
    "print(f\"Разница между наибольшим и наменьшим: {ratio_difference}\")\n",
    "print(f\"Платформа с наибольшим значением: {max_ratio_platform}\")\n",
    "print(f\"Платформа с минимальным значением: {min_ratio_platform}\")\n",
    "\n",
    "\n",
    "\n",
    "\n"
   ]
  },
  {
   "cell_type": "markdown",
   "metadata": {},
   "source": [
    "Разница между временем в задании пандас и в задании с питоном составляет почти в 5-6 раз. Питон делает операции гораздо дольше, чем пандас. \n",
    "Победил pandas"
   ]
  },
  {
   "cell_type": "markdown",
   "metadata": {},
   "source": [
    "#### Задание 10\n",
    "\n",
    "Крайне серьезное задание. Отнеситесь к нему соответствующе. В ячейке ниже напишите ваш любимый анекдот или мем (только без баянов, окей?). Можно плохие. Помните, это задание на полный балл. Проверяющий работу ассистент должен улыбнуться.\n",
    "\n",
    "Если вставляете картинку, то убедитесь, что вы ее не подгружаете локально. А то будет неудобно - потерять балл на этом задании, когда надо было выложить картинку на облако и прокинуть ссылку. И нет, нельзя сюда просто ссылку вставить. Либо ищите, как вставить картинку, либо смешной анекдот. Есть всего два стула - выбирайте..."
   ]
  },
  {
   "cell_type": "code",
   "execution_count": null,
   "metadata": {},
   "outputs": [],
   "source": [
    "# ‿( ́ ̵ _-`)‿смотреть мем снизу"
   ]
  },
  {
   "cell_type": "markdown",
   "metadata": {},
   "source": [
    "Пливеть! Я чилёви парень! #воваадидас "
   ]
  }
 ],
 "metadata": {
  "kernelspec": {
   "display_name": "default",
   "language": "python",
   "name": "python3"
  },
  "language_info": {
   "codemirror_mode": {
    "name": "ipython",
    "version": 3
   },
   "file_extension": ".py",
   "mimetype": "text/x-python",
   "name": "python",
   "nbconvert_exporter": "python",
   "pygments_lexer": "ipython3",
   "version": "3.12.7"
  }
 },
 "nbformat": 4,
 "nbformat_minor": 1
}
